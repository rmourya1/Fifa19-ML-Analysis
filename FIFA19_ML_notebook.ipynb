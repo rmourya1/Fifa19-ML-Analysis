{
  "nbformat": 4,
  "nbformat_minor": 0,
  "metadata": {
    "colab": {
      "name": "SIT742Task2.ipynb",
      "provenance": [],
      "collapsed_sections": [],
      "toc_visible": true
    },
    "kernelspec": {
      "display_name": "Python 3",
      "language": "python",
      "name": "python3"
    },
    "language_info": {
      "codemirror_mode": {
        "name": "ipython",
        "version": 3
      },
      "file_extension": ".py",
      "mimetype": "text/x-python",
      "name": "python",
      "nbconvert_exporter": "python",
      "pygments_lexer": "ipython3",
      "version": "3.7.7"
    }
  },
  "cells": [
    {
      "cell_type": "markdown",
      "metadata": {
        "colab_type": "text",
        "id": "5PD5Pz3u-6vb"
      },
      "source": [
        "# SIT742: Modern Data Science \n",
        "**(2020 Assessment Task 02: Exploration FIFA2019 Data)**\n",
        "\n",
        "---\n",
        "- Materials in this module include resources collected from various open-source online repositories.\n",
        "- You are free to use, change and distribute this package.\n",
        "\n",
        "Prepared by **SIT742 Teaching Team**\n",
        "\n",
        "\n",
        "---\n",
        "\n",
        "<div class=\"alert alert-block alert-info\">\n",
        "Enter your information in the following cell. Please make sure you fill your Student ID and Name correctly.  \n",
        "</div>\n",
        "\n",
        "**Student Group Information:** Please fill your information below\n",
        "\n",
        "- Names with Student IDs: Rajeshkumar Mourya(218615876), Priyanka Naidu(219306186), Saikumar Chimakurthi (219380896) \n",
        "- Group ID: SIT742T2E Group 55 \n",
        "- Emails: rmourya@deakin.edu.au, naidupr@deakin.edu.au, schimakurthi@deakin.edu.au  \n",
        "\n",
        "---"
      ]
    },
    {
      "cell_type": "markdown",
      "metadata": {
        "colab_type": "text",
        "id": "2ljGko6N-6vf"
      },
      "source": [
        "## Overview\n",
        "\n",
        "Recently, [Kaggle](https://www.kaggle.com) (a data science community and competition platform) released one data set '[FIFA19](https://www.kaggle.com/karangadiya/fifa19)‘, which consists of 18K+ FIFA 19 player with around 90 attributes extracted from FIFA database. In this assessment task, we make it available as the data set:\n",
        "- [2020T2Data.csv](https://github.com/tulip-lab/sit742/raw/master/Assessment/2020/data/2020T2Data.csv): The data set for this assignment task.\n",
        "\n",
        "In this task, you will need to **use Spark packages**\n",
        "\n",
        "- **Part 1**: Exploratory Data Analysis\n",
        "\n",
        "- **Part 2**: Clustering Analysis, and identify the position profiles of each cluster\n",
        "\n",
        "- **Part 3**: Classification Analysis, and evaluate the performance of different algorithms using cross validation;\n",
        "\n",
        "\n",
        "You will be required to complete the coding to answer the questions with a neat and clean format, and your commenting and adherence to code standards will be considered when marking. Further information on Python standards, please visit https://www.python.org/dev/peps/pep-0008/ \n",
        "\n",
        "\n",
        "**Note**: You are not necessary to stick to the partial code provided, and you can write your own complete code to implement the required tasks. But you should provide sufficient comments.\n",
        "\n"
      ]
    },
    {
      "cell_type": "markdown",
      "metadata": {
        "colab_type": "text",
        "id": "G1vjEdvs-6vh"
      },
      "source": [
        "## Part 1 - What we could know about FIFA 2019 Players? \n",
        "\n",
        "### 1.0. Libraries and data files\n",
        "<a id=\"Load data\"></a>\n",
        "***\n",
        "\n",
        "Import the necessary Spark environment, and load the data set [2020T2Data.csv](https://github.com/tulip-lab/sit742/raw/master/Assessment/2020/data/2020T2Data.csv).\n"
      ]
    },
    {
      "cell_type": "code",
      "metadata": {
        "colab_type": "code",
        "id": "auVRAscVRVrI",
        "outputId": "e043f128-1fa9-45ff-a9fa-660909b3a14e",
        "colab": {
          "base_uri": "https://localhost:8080/",
          "height": 190
        }
      },
      "source": [
        "!pip install wget\n",
        "!apt-get install openjdk-8-jdk-headless -qq > /dev/null\n",
        "!wget -q https://archive.apache.org/dist/spark/spark-2.4.0/spark-2.4.0-bin-hadoop2.7.tgz\n",
        "!tar xf spark-2.4.0-bin-hadoop2.7.tgz\n",
        "!pip install -q findspark\n",
        "import os,wget\n",
        "os.environ[\"JAVA_HOME\"] = \"/usr/lib/jvm/java-8-openjdk-amd64\"\n",
        "os.environ[\"SPARK_HOME\"] = \"/content/spark-2.4.0-bin-hadoop2.7\"\n",
        "\n",
        "\n",
        "link_to_data = 'https://github.com/tulip-lab/sit742/raw/master/Assessment/2020/data/2020T2Data.csv'\n",
        "DataSet = wget.download(link_to_data)"
      ],
      "execution_count": 0,
      "outputs": [
        {
          "output_type": "stream",
          "text": [
            "Collecting wget\n",
            "  Downloading https://files.pythonhosted.org/packages/47/6a/62e288da7bcda82b935ff0c6cfe542970f04e29c756b0e147251b2fb251f/wget-3.2.zip\n",
            "Building wheels for collected packages: wget\n",
            "  Building wheel for wget (setup.py) ... \u001b[?25l\u001b[?25hdone\n",
            "  Created wheel for wget: filename=wget-3.2-cp36-none-any.whl size=9682 sha256=32de98e0a7cd7bba795dbbbbf5785da993d1fb895699c5b8ae7519f30642065c\n",
            "  Stored in directory: /root/.cache/pip/wheels/40/15/30/7d8f7cea2902b4db79e3fea550d7d7b85ecb27ef992b618f3f\n",
            "Successfully built wget\n",
            "Installing collected packages: wget\n",
            "Successfully installed wget-3.2\n"
          ],
          "name": "stdout"
        }
      ]
    },
    {
      "cell_type": "code",
      "metadata": {
        "colab_type": "code",
        "id": "3Gxm5nc6Rz-a",
        "outputId": "b50fc863-106e-4ed9-9016-eecee4a83835",
        "colab": {
          "base_uri": "https://localhost:8080/",
          "height": 51
        }
      },
      "source": [
        "import findspark\n",
        "findspark.init()\n",
        "from pyspark import SparkContext\n",
        "from pyspark.sql import SQLContext\n",
        "from pyspark.sql import SparkSession\n",
        "sc = SparkContext.getOrCreate()\n",
        "sqlContext = SQLContext(sc)\n",
        "!ls"
      ],
      "execution_count": 0,
      "outputs": [
        {
          "output_type": "stream",
          "text": [
            "2020T2Data.csv\tspark-2.4.0-bin-hadoop2.7\n",
            "sample_data\tspark-2.4.0-bin-hadoop2.7.tgz\n"
          ],
          "name": "stdout"
        }
      ]
    },
    {
      "cell_type": "markdown",
      "metadata": {
        "colab_type": "text",
        "id": "dSPbqoEGR30v"
      },
      "source": [
        "### 1.1 Data Exploration\n",
        "\n",
        "*Remind: You must only use **PySpark** to complete the following data processing and model building. Otherwise, you lose all marks.*\n",
        "\n",
        "<a id=\"loading\"></a>\n",
        "***\n",
        "\n",
        "<div class=\"alert alert-block alert-info\">\n",
        "\n",
        "**Code**: \n",
        "    import the csv file as a Spark dataframe and name it as df\n",
        "\n",
        "</div>\n",
        "\n"
      ]
    },
    {
      "cell_type": "code",
      "metadata": {
        "colab_type": "code",
        "id": "uuGY6lgWR7B3",
        "outputId": "11f97b0a-41f4-47b7-e1ae-92c3cf090d3d",
        "colab": {
          "base_uri": "https://localhost:8080/",
          "height": 1000
        }
      },
      "source": [
        "# Import the '2020T2Data.csv' as a Spark dataframe and name it as df\n",
        "spark = SparkSession.builder.appName('SIT742T2').getOrCreate()\n",
        "\n",
        "# Your Code \n",
        "#Reading csv file as spark dataframe\n",
        "df = spark.read.csv('2020T2Data.csv', header = True, inferSchema = True)\n",
        "df.printSchema()\n"
      ],
      "execution_count": 0,
      "outputs": [
        {
          "output_type": "stream",
          "text": [
            "root\n",
            " |-- ID: integer (nullable = true)\n",
            " |-- Name: string (nullable = true)\n",
            " |-- Age: integer (nullable = true)\n",
            " |-- Photo: string (nullable = true)\n",
            " |-- Nationality: string (nullable = true)\n",
            " |-- Flag: string (nullable = true)\n",
            " |-- Overall: integer (nullable = true)\n",
            " |-- Potential: integer (nullable = true)\n",
            " |-- Club: string (nullable = true)\n",
            " |-- Club Logo: string (nullable = true)\n",
            " |-- value(M): string (nullable = true)\n",
            " |-- wage(K): integer (nullable = true)\n",
            " |-- Special: integer (nullable = true)\n",
            " |-- Preferred Foot: string (nullable = true)\n",
            " |-- International Reputation: integer (nullable = true)\n",
            " |-- Weak Foot: integer (nullable = true)\n",
            " |-- Skill Moves: integer (nullable = true)\n",
            " |-- Work Rate: string (nullable = true)\n",
            " |-- Body Type: string (nullable = true)\n",
            " |-- Real Face: string (nullable = true)\n",
            " |-- Position: string (nullable = true)\n",
            " |-- Jersey Number: integer (nullable = true)\n",
            " |-- Joined: string (nullable = true)\n",
            " |-- Loaned From: string (nullable = true)\n",
            " |-- Contract Valid Until: string (nullable = true)\n",
            " |-- Height: double (nullable = true)\n",
            " |-- Height(CM): double (nullable = true)\n",
            " |-- Weight: double (nullable = true)\n",
            " |-- Weight(KG): double (nullable = true)\n",
            " |-- Crossing: integer (nullable = true)\n",
            " |-- Finishing: integer (nullable = true)\n",
            " |-- HeadingAccuracy: integer (nullable = true)\n",
            " |-- ShortPassing: integer (nullable = true)\n",
            " |-- Volleys: integer (nullable = true)\n",
            " |-- Dribbling: integer (nullable = true)\n",
            " |-- Curve: integer (nullable = true)\n",
            " |-- FKAccuracy: integer (nullable = true)\n",
            " |-- LongPassing: integer (nullable = true)\n",
            " |-- BallControl: integer (nullable = true)\n",
            " |-- Acceleration: integer (nullable = true)\n",
            " |-- SprintSpeed: integer (nullable = true)\n",
            " |-- Agility: integer (nullable = true)\n",
            " |-- Reactions: integer (nullable = true)\n",
            " |-- Balance: integer (nullable = true)\n",
            " |-- ShotPower: integer (nullable = true)\n",
            " |-- Jumping: integer (nullable = true)\n",
            " |-- Stamina: integer (nullable = true)\n",
            " |-- Strength: integer (nullable = true)\n",
            " |-- LongShots: integer (nullable = true)\n",
            " |-- Aggression: integer (nullable = true)\n",
            " |-- Interceptions: integer (nullable = true)\n",
            " |-- Positioning: integer (nullable = true)\n",
            " |-- Vision: integer (nullable = true)\n",
            " |-- Penalties: integer (nullable = true)\n",
            " |-- Composure: integer (nullable = true)\n",
            " |-- Marking: integer (nullable = true)\n",
            " |-- StandingTackle: integer (nullable = true)\n",
            " |-- SlidingTackle: integer (nullable = true)\n",
            " |-- GKDiving: integer (nullable = true)\n",
            " |-- GKHandling: integer (nullable = true)\n",
            " |-- GKKicking: integer (nullable = true)\n",
            " |-- GKPositioning: integer (nullable = true)\n",
            " |-- GKReflexes: integer (nullable = true)\n",
            " |-- Release Clause(M): string (nullable = true)\n",
            "\n"
          ],
          "name": "stdout"
        }
      ]
    },
    {
      "cell_type": "markdown",
      "metadata": {
        "colab_type": "text",
        "id": "2sXsdZ2wbrAg"
      },
      "source": [
        "****\n",
        "\n",
        "\n",
        "<div class=\"alert alert-block alert-info\">\n",
        "\n",
        "**Code**: \n",
        "    Check statistics (min, mean and max) for features on Age, Overall. Then find out the Avg Overall on Position, Avg Overall on Nationality (Sort by avg Overall on Nationality)\n",
        "\n",
        "<div class=\"alert alert-block alert-warning\">\n",
        "    \n",
        "**Report**: \n",
        "    **1.1.A** Please answer questions with proper section title  '1.1.A':     \n",
        "    <ol>\n",
        "        <li> Which are the (min, mean and max) for Age </li>\n",
        "        <li> Which are the (min, mean and max) for Overall </li>\n",
        "        <li> Which position the talented player (based on Avg Overall) are playing? </li>\n",
        "        <li> Which are the top 3 countres that most likely have the genies player (based on sort of Avg Overall) and </li>\n",
        "    </ol>\n",
        "</div>\n",
        "</div>"
      ]
    },
    {
      "cell_type": "code",
      "metadata": {
        "colab_type": "code",
        "id": "mdWVric-aY-h",
        "outputId": "cac6c6d6-fb1a-4d57-86f3-ee3e6217b121",
        "colab": {
          "base_uri": "https://localhost:8080/",
          "height": 289
        }
      },
      "source": [
        "from pyspark.sql import functions as F\n",
        "\n",
        "#Your code for statistics on Age\n",
        "\n",
        "from pyspark.sql.functions import min,max,mean\n",
        "\n",
        "#Your code for statistics on Age\n",
        "\n",
        "df.describe('Age').show()\n",
        "df.select([mean('Age'), min('Age'), max('Age')]).show()\n",
        "\n"
      ],
      "execution_count": 0,
      "outputs": [
        {
          "output_type": "stream",
          "text": [
            "+-------+------------------+\n",
            "|summary|               Age|\n",
            "+-------+------------------+\n",
            "|  count|             18207|\n",
            "|   mean|25.122205745043114|\n",
            "| stddev| 4.669942713414287|\n",
            "|    min|                16|\n",
            "|    max|                45|\n",
            "+-------+------------------+\n",
            "\n",
            "+------------------+--------+--------+\n",
            "|          avg(Age)|min(Age)|max(Age)|\n",
            "+------------------+--------+--------+\n",
            "|25.122205745043114|      16|      45|\n",
            "+------------------+--------+--------+\n",
            "\n"
          ],
          "name": "stdout"
        }
      ]
    },
    {
      "cell_type": "code",
      "metadata": {
        "colab_type": "code",
        "id": "-KMLB3sAfkpK",
        "outputId": "d74c00cd-6037-477b-a906-2795069980db",
        "colab": {
          "base_uri": "https://localhost:8080/",
          "height": 289
        }
      },
      "source": [
        "#Your Code for statistics on Overall\n",
        "df.describe('Overall').show()\n",
        "df.select([mean('Overall'), min('Overall'), max('Overall')]).show()\n"
      ],
      "execution_count": 0,
      "outputs": [
        {
          "output_type": "stream",
          "text": [
            "+-------+------------------+\n",
            "|summary|           Overall|\n",
            "+-------+------------------+\n",
            "|  count|             18207|\n",
            "|   mean| 66.23869940132916|\n",
            "| stddev|6.9089296118831784|\n",
            "|    min|                46|\n",
            "|    max|                94|\n",
            "+-------+------------------+\n",
            "\n",
            "+-----------------+------------+------------+\n",
            "|     avg(Overall)|min(Overall)|max(Overall)|\n",
            "+-----------------+------------+------------+\n",
            "|66.23869940132916|          46|          94|\n",
            "+-----------------+------------+------------+\n",
            "\n"
          ],
          "name": "stdout"
        }
      ]
    },
    {
      "cell_type": "code",
      "metadata": {
        "colab_type": "code",
        "id": "S4SMaNc4gX3E",
        "outputId": "69cec395-bb08-4bb5-f5d6-bcf180c11f9a",
        "colab": {
          "base_uri": "https://localhost:8080/",
          "height": 119
        }
      },
      "source": [
        "#Your Code for which position \n",
        "\n",
        "df.createOrReplaceTempView(\"df_table\")\n",
        "df11a3 = spark.sql(\"SELECT Position,AVG(Overall) FROM df_table GROUP BY Position ORDER BY AVG(Overall) DESC LIMIT 1\")\n",
        "df11a3.show()\n",
        "\n"
      ],
      "execution_count": 0,
      "outputs": [
        {
          "output_type": "stream",
          "text": [
            "+--------+-----------------+\n",
            "|Position|     avg(Overall)|\n",
            "+--------+-----------------+\n",
            "|      LF|73.86666666666666|\n",
            "+--------+-----------------+\n",
            "\n"
          ],
          "name": "stdout"
        }
      ]
    },
    {
      "cell_type": "code",
      "metadata": {
        "colab_type": "code",
        "id": "B6PYyigEjZwI",
        "outputId": "573972ae-b99a-4999-8216-eed277b02bae",
        "colab": {
          "base_uri": "https://localhost:8080/",
          "height": 153
        }
      },
      "source": [
        "#Your Code to output top 3 countries most likely having good players\n",
        "\n",
        "df11a4 = spark.sql(\"SELECT Nationality,AVG(Overall) FROM df_table GROUP BY Nationality ORDER BY AVG(Overall) DESC LIMIT 3\")\n",
        "df11a4.show()"
      ],
      "execution_count": 0,
      "outputs": [
        {
          "output_type": "stream",
          "text": [
            "+--------------------+-----------------+\n",
            "|         Nationality|     avg(Overall)|\n",
            "+--------------------+-----------------+\n",
            "|United Arab Emirates|             77.0|\n",
            "|Central African Rep.|73.33333333333333|\n",
            "|              Israel|72.14285714285714|\n",
            "+--------------------+-----------------+\n",
            "\n"
          ],
          "name": "stdout"
        }
      ]
    },
    {
      "cell_type": "markdown",
      "metadata": {
        "colab_type": "text",
        "id": "kT8OESOsmQfv"
      },
      "source": [
        "****\n",
        "\n",
        "<div class=\"alert alert-block alert-info\">\n",
        "\n",
        "**Code**: \n",
        "    You are required to find out the Avg Potentials on Country by Positions, and show the top 10 by ordering your results on Country with alphabet? (Hint: you may need to use pivot)\n",
        "\n",
        "<div class=\"alert alert-block alert-warning\">\n",
        "    \n",
        "**Report**: \n",
        "    **1.1.B** Please answer questions with proper section title  '1.1.B':     \n",
        "    <ol>\n",
        "        <li> Show the results on Avg Potentials on Country by Position with ordering the results on country by alphabet</li>\n",
        "        <li> Which position the young talented player (by Avg Potential) are playing in Australia? </li>\n",
        "    </ol>\n",
        "    \n",
        "</div>\n",
        "</div>"
      ]
    },
    {
      "cell_type": "code",
      "metadata": {
        "colab_type": "code",
        "id": "R1RsTYgImPFD",
        "outputId": "57d1d432-37eb-457b-cc97-eafe8da0b9f8",
        "colab": {
          "base_uri": "https://localhost:8080/",
          "height": 394
        }
      },
      "source": [
        "#Your code to identify top 10 countryes by alphabet\n",
        "df_11b1 = df.groupby(\"Nationality\").pivot(\"Position\").mean('Potential').sort('Nationality').limit(10)\n",
        "df_11b1.show()\n",
        "\n",
        "\n",
        "#Your Code to identify which position has the most talend young players in Australia\n",
        "Country = \"Australia\"\n",
        "df_11b2 = spark.sql(\"SELECT Position,Nationality,AVG(Potential) FROM df_table WHERE Nationality= '{}' GROUP BY Position,Nationality ORDER BY AVG(Overall)  DESC LIMIT 1\".format(Country))\n",
        "df_11b2.show()\n",
        "\n"
      ],
      "execution_count": 0,
      "outputs": [
        {
          "output_type": "stream",
          "text": [
            "+-----------------+----+-----------------+-----------------+-----------------+----+-----------------+-----------------+----+-----------------+-----------------+-----------------+-----------------+----+-----------------+-----------------+-----------------+-----+----+-----------------+-----------------+-----------------+-----------------+----+-----------------+-----------------+-----------------+----+-----------------+\n",
            "|      Nationality|null|              CAM|               CB|              CDM|  CF|               CM|               GK| LAM|               LB|              LCB|              LCM|              LDM|  LF|               LM|               LS|               LW|  LWB| RAM|               RB|              RCB|              RCM|              RDM|  RF|               RM|               RS|               RW| RWB|               ST|\n",
            "+-----------------+----+-----------------+-----------------+-----------------+----+-----------------+-----------------+----+-----------------+-----------------+-----------------+-----------------+----+-----------------+-----------------+-----------------+-----+----+-----------------+-----------------+-----------------+-----------------+----+-----------------+-----------------+-----------------+----+-----------------+\n",
            "|      Afghanistan|null|             66.0|             null|             null|null|             71.0|             null|null|             64.0|             null|             null|             null|null|             70.0|             null|             null| null|null|             null|             null|             null|             null|null|             null|             null|             null|null|             null|\n",
            "|          Albania|70.0|            70.75|74.33333333333333|             69.5|null|            71.75|             77.5|null|             66.0|             null|             71.0|72.66666666666667|null|73.66666666666667|             null|             64.0| null|null|             75.0|             68.0|             75.0|             null|null|             64.0|             71.0|             72.5|null|            72.25|\n",
            "|          Algeria|null|            74.25|             69.5|            70.25|null|77.66666666666667|             67.6|null|            73.75|             69.0|             76.0|             73.0|null|74.66666666666667|             null|73.66666666666667| null|null|             63.0|             74.5|             76.0|71.33333333333333|null|            74.75|             null|             76.6|82.0|            73.75|\n",
            "|          Andorra|null|             null|             64.0|             null|null|             null|             null|null|             null|             null|             null|             null|null|             null|             null|             null| null|null|             null|             null|             null|             null|null|             null|             null|             null|null|             null|\n",
            "|           Angola|null|             null|             79.0|             null|null|             null|             null|null|             75.0|             72.0|             null|             null|null|             72.0|             null|             70.5| null|null|             null|             65.0|             null|             null|null|             68.0|             66.0|             null|null|75.66666666666667|\n",
            "|Antigua & Barbuda|null|             null|             null|             null|null|             null|             null|null|             null|             null|             null|             null|null|             65.0|             null|             null| null|null|             71.5|             null|             null|             null|null|             null|             null|             null|null|             63.0|\n",
            "|        Argentina|70.0|74.78260869565217|72.85858585858585|72.76363636363637|79.0|73.08695652173913|71.76288659793815|null|72.22033898305085|73.91428571428571|            74.52|           73.375|82.0|         74.40625|75.23076923076923|75.18518518518519|75.75|null|            71.98|73.05405405405405|72.94444444444444|             73.5|87.0| 73.2741935483871|             73.8|73.20689655172414|72.0|           72.928|\n",
            "|          Armenia|null|             null|             null|             null|null|             null|             null|null|             null|             null|             null|             null|null|             69.5|             73.0|             null| null|null|             72.0|             null|             null|             null|null|             83.0|             null|             70.5|null|             70.0|\n",
            "|        Australia|null|            71.25| 69.0952380952381|          66.8125|null|67.71428571428571|             67.0|null|68.28571428571429|             67.6|             70.0|             70.5|null|69.54545454545455|             64.0|66.44444444444444| 71.0|null|66.21428571428571|             69.5|             72.5|             77.0|null|70.53846153846153|             66.5|             68.6|66.0|            67.44|\n",
            "|          Austria|64.0|73.16666666666667|         70.28125|69.63157894736842|68.0|68.70588235294117| 68.1590909090909|null|69.47058823529412|71.58333333333333|72.44444444444444|             75.5|null|69.29411764705883|             82.0|72.33333333333333| 69.0|null| 69.0909090909091| 70.0909090909091|             69.6|72.85714285714286|66.0|70.30434782608695|70.66666666666667|             71.0|66.0|68.62962962962963|\n",
            "+-----------------+----+-----------------+-----------------+-----------------+----+-----------------+-----------------+----+-----------------+-----------------+-----------------+-----------------+----+-----------------+-----------------+-----------------+-----+----+-----------------+-----------------+-----------------+-----------------+----+-----------------+-----------------+-----------------+----+-----------------+\n",
            "\n",
            "+--------+-----------+--------------+\n",
            "|Position|Nationality|avg(Potential)|\n",
            "+--------+-----------+--------------+\n",
            "|     RDM|  Australia|          77.0|\n",
            "+--------+-----------+--------------+\n",
            "\n"
          ],
          "name": "stdout"
        }
      ]
    },
    {
      "cell_type": "markdown",
      "metadata": {
        "colab_type": "text",
        "id": "lGWtR6Ast7o8"
      },
      "source": [
        "Interesting, is there a age that the player is fully relased his potential? If there is, could you find out?\n",
        "\n",
        "****\n",
        "\n",
        "<div class=\"alert alert-block alert-info\">\n",
        "\n",
        "**Code**: \n",
        "    You are required to plot the finding visually by having Age as the x-axis and avg potential on age with avg overall on age at y-axis. (Hint: you may need to select and aggreate on data first and then turn it into pandas for plotting)\n",
        "\n",
        "<div class=\"alert alert-block alert-warning\">\n",
        "    \n",
        "**Report**: \n",
        "    **1.1.C** Please include the following plot into your report with proper section title  '1.1.C':     \n",
        "    <ol>\n",
        "        <li> Plot the finding visually by having Age as the x-axis and avg potential on age with avg overall on age at y-axis. </li>\n",
        "        <li> What you can find for the age at which the player is fully released his potential?\n",
        "    </ol>\n",
        "    \n",
        "</div>\n",
        "</div>"
      ]
    },
    {
      "cell_type": "code",
      "metadata": {
        "colab_type": "code",
        "id": "mRvkk376u-dE",
        "outputId": "12daee3c-7933-49d6-f489-c53bf1c124d2",
        "colab": {
          "base_uri": "https://localhost:8080/",
          "height": 710
        }
      },
      "source": [
        "import matplotlib.pyplot as plt\n",
        "import numpy as np\n",
        "import pandas as pd\n",
        "\n",
        "# Your Code for plot\n",
        "df_pand = df.groupBy(\"Age\").agg({'Potential':'avg', 'Overall':'avg'}).toPandas()\n",
        "df_pand.sort_values(by=\"Age\",inplace=True)\n",
        "\n",
        "df_pand.plot(x=\"Age\", y=[\"avg(Potential)\",\"avg(Overall)\"],kind=\"bar\",figsize = (10,10))\n",
        "plt.show()\n",
        "\n",
        "#Find the age when the players are fully released their potential in general?\n",
        "df11c2=spark.sql(\"SELECT Age,AVG(Potential) FROM df_table GROUP BY Age ORDER BY AVG(Potential) DESC LIMIT 1\")\n",
        "df11c2.show()\n",
        "\n",
        "\n",
        "\n"
      ],
      "execution_count": 0,
      "outputs": [
        {
          "output_type": "display_data",
          "data": {
            "image/png": "[encoded data removed]",
            "text/plain": [
              "<Figure size 720x720 with 1 Axes>"
            ]
          },
          "metadata": {
            "tags": [],
            "needs_background": "light"
          }
        },
        {
          "output_type": "stream",
          "text": [
            "+---+-----------------+\n",
            "|Age|   avg(Potential)|\n",
            "+---+-----------------+\n",
            "| 17|74.33910034602076|\n",
            "+---+-----------------+\n",
            "\n"
          ],
          "name": "stdout"
        }
      ]
    },
    {
      "cell_type": "markdown",
      "metadata": {
        "colab_type": "text",
        "id": "gMqIOge42NI7"
      },
      "source": [
        "## Part 2 - Unsupervised Learning: Kmeans\n",
        "\n",
        "<a id=\"kmeans\"></a>\n",
        "***\n",
        "\n",
        "In this part, you are required to build a Kmeans clustering for explore the player segmentation. \n",
        "\n",
        "\n",
        "### 2.1 Data Preparation\n",
        "\n",
        "*Remind: You must only use **pyspark** to complete the following data processing and model building. Otherwise, you lose all marks.*"
      ]
    },
    {
      "cell_type": "markdown",
      "metadata": {
        "colab_type": "text",
        "id": "eHi1rU4p-6wK"
      },
      "source": [
        "\n",
        "****\n",
        "\n",
        "<div class=\"alert alert-block alert-info\">\n",
        "\n",
        "**Code**: \n",
        "    You will need to remove the Goal Keepers (Position = 'GK') and only use the skillset attributes (Height(CM),\n",
        "Weight(KG),\n",
        "Crossing,\n",
        "Finishing,\n",
        "HeadingAccuracy,\n",
        "ShortPassing,\n",
        "Volleys,\n",
        "Dribbling,\n",
        "Curve,\n",
        "FKAccuracy,\n",
        "LongPassing,\n",
        "BallControl,\n",
        "Acceleration,\n",
        "SprintSpeed,\n",
        "Agility,\n",
        "Reactions,\n",
        "Balance,\n",
        "ShotPower,\n",
        "Jumping,\n",
        "Stamina,\n",
        "Strength,\n",
        "LongShots,\n",
        "Aggression,\n",
        "Interceptions,\n",
        "Positioning,\n",
        "Vision,\n",
        "Penalties,\n",
        "Composure,\n",
        "Marking,\n",
        "StandingTackle,\n",
        "SlidingTackle) \n",
        "\n",
        "</div>\n",
        "\n"
      ]
    },
    {
      "cell_type": "code",
      "metadata": {
        "colab_type": "code",
        "id": "X2LHjTMv3w_7",
        "outputId": "b7dd1a90-4efd-4392-b1b8-c5bdb1b9c05b",
        "colab": {
          "base_uri": "https://localhost:8080/",
          "height": 411
        }
      },
      "source": [
        "# Your code to select relevent features and filtering by leaving out the GK\n",
        "import pandas as pd\n",
        "df2 = spark.read.csv('2020T2Data.csv', header = True, inferSchema = True)\n",
        "\n",
        "df3 = df2[df2['Position']!='GK']      #dafaframe without goal keepers\n",
        "df3.show(5)\n",
        "#Selecting features\n",
        "feature_col = ['Position', 'ID', 'Height(CM)', 'Weight(KG)', 'Crossing', 'Finishing', 'HeadingAccuracy', \n",
        "               'ShortPassing', 'Volleys', 'Dribbling', 'Curve', 'FKAccuracy', 'LongPassing', \n",
        "               'BallControl', 'Acceleration', 'SprintSpeed', 'Agility', 'Reactions', 'Balance', \n",
        "               'ShotPower', 'Jumping', 'Stamina', 'Strength', 'LongShots', 'Aggression', 'Interceptions', \n",
        "               'Positioning', 'Vision', 'Penalties', 'Composure', 'Marking', 'StandingTackle', 'SlidingTackle']\n",
        "#setting up the dataframe with selected features\n",
        "df3 = df3.select(feature_col)\n",
        "df3.show(5)"
      ],
      "execution_count": 0,
      "outputs": [
        {
          "output_type": "stream",
          "text": [
            "+------+-----------------+---+--------------------+-----------+--------------------+-------+---------+-------------------+--------------------+--------+-------+-------+--------------+------------------------+---------+-----------+--------------+----------+---------+--------+-------------+------------+-----------+--------------------+------+----------+------+----------+--------+---------+---------------+------------+-------+---------+-----+----------+-----------+-----------+------------+-----------+-------+---------+-------+---------+-------+-------+--------+---------+----------+-------------+-----------+------+---------+---------+-------+--------------+-------------+--------+----------+---------+-------------+----------+-----------------+\n",
            "|    ID|             Name|Age|               Photo|Nationality|                Flag|Overall|Potential|               Club|           Club Logo|value(M)|wage(K)|Special|Preferred Foot|International Reputation|Weak Foot|Skill Moves|     Work Rate| Body Type|Real Face|Position|Jersey Number|      Joined|Loaned From|Contract Valid Until|Height|Height(CM)|Weight|Weight(KG)|Crossing|Finishing|HeadingAccuracy|ShortPassing|Volleys|Dribbling|Curve|FKAccuracy|LongPassing|BallControl|Acceleration|SprintSpeed|Agility|Reactions|Balance|ShotPower|Jumping|Stamina|Strength|LongShots|Aggression|Interceptions|Positioning|Vision|Penalties|Composure|Marking|StandingTackle|SlidingTackle|GKDiving|GKHandling|GKKicking|GKPositioning|GKReflexes|Release Clause(M)|\n",
            "+------+-----------------+---+--------------------+-----------+--------------------+-------+---------+-------------------+--------------------+--------+-------+-------+--------------+------------------------+---------+-----------+--------------+----------+---------+--------+-------------+------------+-----------+--------------------+------+----------+------+----------+--------+---------+---------------+------------+-------+---------+-----+----------+-----------+-----------+------------+-----------+-------+---------+-------+---------+-------+-------+--------+---------+----------+-------------+-----------+------+---------+---------+-------+--------------+-------------+--------+----------+---------+-------------+----------+-----------------+\n",
            "|158023|         L. Messi| 31|https://cdn.sofif...|  Argentina|https://cdn.sofif...|     94|       94|       FC Barcelona|https://cdn.sofif...|   110.5|    565|   2202|          Left|                       5|        4|          4|Medium/ Medium|     Messi|      Yes|      RF|           10| Jul 1, 2004|       null|                2021|   5.7|   173.736| 159.0| 72.121128|      84|       95|             70|          90|     86|       97|   93|        94|         87|         96|          91|         86|     91|       95|     95|       85|     68|     72|      59|       94|        48|           22|         94|    94|       75|       96|     33|            28|           26|       6|        11|       15|           14|         8|            226.5|\n",
            "| 20801|Cristiano Ronaldo| 33|https://cdn.sofif...|   Portugal|https://cdn.sofif...|     94|       94|           Juventus|https://cdn.sofif...|      77|    405|   2228|         Right|                       5|        4|          5|     High/ Low|C. Ronaldo|      Yes|      ST|            7|Jul 10, 2018|       null|                2022|   6.2|   188.976| 183.0| 83.007336|      84|       94|             89|          81|     87|       88|   81|        76|         77|         94|          89|         91|     87|       96|     70|       95|     95|     88|      79|       93|        63|           29|         95|    82|       85|       95|     28|            31|           23|       7|        11|       15|           14|        11|            127.1|\n",
            "|190871|        Neymar Jr| 26|https://cdn.sofif...|     Brazil|https://cdn.sofif...|     92|       93|Paris Saint-Germain|https://cdn.sofif...|   118.5|    290|   2143|         Right|                       5|        5|          5|  High/ Medium|    Neymar|      Yes|      LW|           10| Aug 3, 2017|       null|                2022|   5.9|   179.832| 150.0|   68.0388|      79|       87|             62|          84|     84|       96|   88|        87|         78|         95|          94|         90|     96|       94|     84|       80|     61|     81|      49|       82|        56|           36|         89|    87|       81|       94|     27|            24|           33|       9|         9|       15|           15|        11|            228.1|\n",
            "|192985|     K. De Bruyne| 27|https://cdn.sofif...|    Belgium|https://cdn.sofif...|     91|       92|    Manchester City|https://cdn.sofif...|     102|    355|   2281|         Right|                       4|        5|          4|    High/ High|    Normal|      Yes|     RCM|            7|Aug 30, 2015|       null|                2023|  5.11|  155.7528| 154.0| 69.853168|      93|       82|             55|          92|     82|       86|   85|        83|         91|         91|          78|         76|     79|       91|     77|       91|     63|     90|      75|       91|        76|           61|         87|    94|       79|       88|     68|            58|           51|      15|        13|        5|           10|        13|            196.4|\n",
            "|183277|        E. Hazard| 27|https://cdn.sofif...|    Belgium|https://cdn.sofif...|     91|       91|            Chelsea|https://cdn.sofif...|      93|    340|   2142|         Right|                       4|        4|          4|  High/ Medium|    Normal|      Yes|      LF|           10| Jul 1, 2012|       null|                2020|   5.8|   176.784| 163.0| 73.935496|      81|       84|             61|          89|     80|       95|   83|        79|         83|         94|          94|         88|     95|       90|     94|       82|     56|     83|      66|       80|        54|           41|         87|    89|       86|       91|     34|            27|           22|      11|        12|        6|            8|         8|            172.1|\n",
            "+------+-----------------+---+--------------------+-----------+--------------------+-------+---------+-------------------+--------------------+--------+-------+-------+--------------+------------------------+---------+-----------+--------------+----------+---------+--------+-------------+------------+-----------+--------------------+------+----------+------+----------+--------+---------+---------------+------------+-------+---------+-----+----------+-----------+-----------+------------+-----------+-------+---------+-------+---------+-------+-------+--------+---------+----------+-------------+-----------+------+---------+---------+-------+--------------+-------------+--------+----------+---------+-------------+----------+-----------------+\n",
            "only showing top 5 rows\n",
            "\n",
            "+--------+------+----------+----------+--------+---------+---------------+------------+-------+---------+-----+----------+-----------+-----------+------------+-----------+-------+---------+-------+---------+-------+-------+--------+---------+----------+-------------+-----------+------+---------+---------+-------+--------------+-------------+\n",
            "|Position|    ID|Height(CM)|Weight(KG)|Crossing|Finishing|HeadingAccuracy|ShortPassing|Volleys|Dribbling|Curve|FKAccuracy|LongPassing|BallControl|Acceleration|SprintSpeed|Agility|Reactions|Balance|ShotPower|Jumping|Stamina|Strength|LongShots|Aggression|Interceptions|Positioning|Vision|Penalties|Composure|Marking|StandingTackle|SlidingTackle|\n",
            "+--------+------+----------+----------+--------+---------+---------------+------------+-------+---------+-----+----------+-----------+-----------+------------+-----------+-------+---------+-------+---------+-------+-------+--------+---------+----------+-------------+-----------+------+---------+---------+-------+--------------+-------------+\n",
            "|      RF|158023|   173.736| 72.121128|      84|       95|             70|          90|     86|       97|   93|        94|         87|         96|          91|         86|     91|       95|     95|       85|     68|     72|      59|       94|        48|           22|         94|    94|       75|       96|     33|            28|           26|\n",
            "|      ST| 20801|   188.976| 83.007336|      84|       94|             89|          81|     87|       88|   81|        76|         77|         94|          89|         91|     87|       96|     70|       95|     95|     88|      79|       93|        63|           29|         95|    82|       85|       95|     28|            31|           23|\n",
            "|      LW|190871|   179.832|   68.0388|      79|       87|             62|          84|     84|       96|   88|        87|         78|         95|          94|         90|     96|       94|     84|       80|     61|     81|      49|       82|        56|           36|         89|    87|       81|       94|     27|            24|           33|\n",
            "|     RCM|192985|  155.7528| 69.853168|      93|       82|             55|          92|     82|       86|   85|        83|         91|         91|          78|         76|     79|       91|     77|       91|     63|     90|      75|       91|        76|           61|         87|    94|       79|       88|     68|            58|           51|\n",
            "|      LF|183277|   176.784| 73.935496|      81|       84|             61|          89|     80|       95|   83|        79|         83|         94|          94|         88|     95|       90|     94|       82|     56|     83|      66|       80|        54|           41|         87|    89|       86|       91|     34|            27|           22|\n",
            "+--------+------+----------+----------+--------+---------+---------------+------------+-------+---------+-----+----------+-----------+-----------+------------+-----------+-------+---------+-------+---------+-------+-------+--------+---------+----------+-------------+-----------+------+---------+---------+-------+--------------+-------------+\n",
            "only showing top 5 rows\n",
            "\n"
          ],
          "name": "stdout"
        }
      ]
    },
    {
      "cell_type": "markdown",
      "metadata": {
        "colab_type": "text",
        "id": "kVLBzBId9iCk"
      },
      "source": [
        "To make the later stage easier, we define the position group by using the position feature.\n",
        "- DEF = [LB,LWB,RB,LCB,RCB,CB,RWB] ,\n",
        "- FWD = [RF,LF,LW,RS,RW,LS,CF,ST] ,\n",
        "- MID = [LCM,LM,RDM,CAM,RAM,RCM,CM,CDM,RM,LAM,LDM]\n",
        "\n",
        "****\n",
        "\n",
        "<div class=\"alert alert-block alert-info\">\n",
        "\n",
        "**Code**: \n",
        "    You are required to create a new column called Position_Group with only DEF/FWD/MID in the dataframe you created in previous question\n",
        "\n",
        "</div>\n",
        "\n",
        "</div>"
      ]
    },
    {
      "cell_type": "code",
      "metadata": {
        "colab_type": "code",
        "id": "X4N6edcq5kE_",
        "outputId": "113d9b5d-93f7-494a-ad7c-16159fbd0f6b",
        "colab": {
          "base_uri": "https://localhost:8080/",
          "height": 224
        }
      },
      "source": [
        "from pyspark.sql.functions import when,col\n",
        "\n",
        "# Your code to complete\n",
        "DEF = ['LB','LWB','RB','LCB','RCB','CB','RWB']\n",
        "FWD=  ['RF','LF','LW','RS','RW','LS','CF','ST']\n",
        "MID=  ['LCM','LM','RDM','CAM','RAM','RCM','CM','CDM','RM','LAM','LDM']\n",
        "\n",
        "# Your code here to create a new variable df_kmeans_new with a new column Position_Group, ..\n",
        "#\n",
        "\n",
        "from pyspark.sql.functions import when,col\n",
        "df_kmeans_new = df3.withColumn('Position_Group',\n",
        "                when((col('Position').isin(DEF)), 'DEF')\n",
        "                .when((col('Position').isin(FWD)), 'FWD')\n",
        "                .when((col('Position').isin(MID)), 'MID'))\n",
        "\n",
        "df_kmeans_new.show(5) #Position_Group added as last column"
      ],
      "execution_count": 0,
      "outputs": [
        {
          "output_type": "stream",
          "text": [
            "+--------+------+----------+----------+--------+---------+---------------+------------+-------+---------+-----+----------+-----------+-----------+------------+-----------+-------+---------+-------+---------+-------+-------+--------+---------+----------+-------------+-----------+------+---------+---------+-------+--------------+-------------+--------------+\n",
            "|Position|    ID|Height(CM)|Weight(KG)|Crossing|Finishing|HeadingAccuracy|ShortPassing|Volleys|Dribbling|Curve|FKAccuracy|LongPassing|BallControl|Acceleration|SprintSpeed|Agility|Reactions|Balance|ShotPower|Jumping|Stamina|Strength|LongShots|Aggression|Interceptions|Positioning|Vision|Penalties|Composure|Marking|StandingTackle|SlidingTackle|Position_Group|\n",
            "+--------+------+----------+----------+--------+---------+---------------+------------+-------+---------+-----+----------+-----------+-----------+------------+-----------+-------+---------+-------+---------+-------+-------+--------+---------+----------+-------------+-----------+------+---------+---------+-------+--------------+-------------+--------------+\n",
            "|      RF|158023|   173.736| 72.121128|      84|       95|             70|          90|     86|       97|   93|        94|         87|         96|          91|         86|     91|       95|     95|       85|     68|     72|      59|       94|        48|           22|         94|    94|       75|       96|     33|            28|           26|           FWD|\n",
            "|      ST| 20801|   188.976| 83.007336|      84|       94|             89|          81|     87|       88|   81|        76|         77|         94|          89|         91|     87|       96|     70|       95|     95|     88|      79|       93|        63|           29|         95|    82|       85|       95|     28|            31|           23|           FWD|\n",
            "|      LW|190871|   179.832|   68.0388|      79|       87|             62|          84|     84|       96|   88|        87|         78|         95|          94|         90|     96|       94|     84|       80|     61|     81|      49|       82|        56|           36|         89|    87|       81|       94|     27|            24|           33|           FWD|\n",
            "|     RCM|192985|  155.7528| 69.853168|      93|       82|             55|          92|     82|       86|   85|        83|         91|         91|          78|         76|     79|       91|     77|       91|     63|     90|      75|       91|        76|           61|         87|    94|       79|       88|     68|            58|           51|           MID|\n",
            "|      LF|183277|   176.784| 73.935496|      81|       84|             61|          89|     80|       95|   83|        79|         83|         94|          94|         88|     95|       90|     94|       82|     56|     83|      66|       80|        54|           41|         87|    89|       86|       91|     34|            27|           22|           FWD|\n",
            "+--------+------+----------+----------+--------+---------+---------------+------------+-------+---------+-----+----------+-----------+-----------+------------+-----------+-------+---------+-------+---------+-------+-------+--------+---------+----------+-------------+-----------+------+---------+---------+-------+--------------+-------------+--------------+\n",
            "only showing top 5 rows\n",
            "\n"
          ],
          "name": "stdout"
        }
      ]
    },
    {
      "cell_type": "markdown",
      "metadata": {
        "colab_type": "text",
        "id": "R-NyFp7IBtGZ"
      },
      "source": [
        "Now, we remove the Position_Group and Position to create the feature for Kmeans\n",
        "\n",
        "\n"
      ]
    },
    {
      "cell_type": "code",
      "metadata": {
        "colab_type": "code",
        "id": "2x_o_w54B-mN",
        "outputId": "98a8ada7-e549-47e7-a62f-dff0a06027f0",
        "colab": {
          "base_uri": "https://localhost:8080/",
          "height": 170
        }
      },
      "source": [
        "from pyspark.ml.clustering import KMeans\n",
        "from pyspark.ml.feature import VectorAssembler\n",
        "\n",
        "FEATURES_COL = ['Height(CM)', 'Weight(KG)', \n",
        "                      'Crossing', 'Finishing', 'HeadingAccuracy', \n",
        "                      'ShortPassing', 'Volleys', 'Dribbling', 'Curve',\n",
        "                      'FKAccuracy', 'LongPassing', 'BallControl', \n",
        "                      'Acceleration', 'SprintSpeed', 'Agility', \n",
        "                      'Reactions', 'Balance', 'ShotPower', 'Jumping', \n",
        "                      'Stamina', 'Strength', 'LongShots', 'Aggression', \n",
        "                      'Interceptions', 'Positioning', 'Vision', 'Penalties', \n",
        "                      'Composure', 'Marking', 'StandingTackle', 'SlidingTackle']\n",
        "\n",
        "vecAssembler = VectorAssembler(inputCols=FEATURES_COL, outputCol=\"features\")\n",
        "df_kmeans_ = vecAssembler.transform(df_kmeans_new).select('ID','features')\n",
        "df_kmeans_.show(3)"
      ],
      "execution_count": 0,
      "outputs": [
        {
          "output_type": "stream",
          "text": [
            "+------+--------------------+\n",
            "|    ID|            features|\n",
            "+------+--------------------+\n",
            "|158023|[173.736,72.12112...|\n",
            "| 20801|[188.976,83.00733...|\n",
            "|190871|[179.832,68.0388,...|\n",
            "+------+--------------------+\n",
            "only showing top 3 rows\n",
            "\n"
          ],
          "name": "stdout"
        }
      ]
    },
    {
      "cell_type": "markdown",
      "metadata": {
        "colab_type": "text",
        "id": "UniVGeYIDa_k"
      },
      "source": [
        "Now in order to evaluate your Kmeans Model, please plot the elbow plot\n",
        "\n",
        "\n",
        "<div class=\"alert alert-block alert-info\">\n",
        "\n",
        "**Code**: \n",
        "    You are required to plot the elbow plot, with a varying K from 2 to 20.\n",
        "\n",
        "<div class=\"alert alert-block alert-warning\">\n",
        "    \n",
        "**Report**: \n",
        "    **2.1** In your report with proper section title  '2.1', Please include the elbow plot. \n",
        "\n",
        "</div>\n",
        "</div>\n",
        "\n"
      ]
    },
    {
      "cell_type": "code",
      "metadata": {
        "colab_type": "code",
        "id": "UDia7JYyDLhg",
        "colab": {}
      },
      "source": [
        "cost = np.zeros(20)\n",
        "\n",
        "for k in range(2,20):\n",
        "  # Calculate cost for k in range (2,20)\n",
        "   kmeans = KMeans().setK(k).setSeed(1).setFeaturesCol('features')\n",
        "   model = kmeans.fit(df_kmeans_)\n",
        "   cost[k] = model.computeCost(df_kmeans_)\n",
        "\n"
      ],
      "execution_count": 0,
      "outputs": []
    },
    {
      "cell_type": "code",
      "metadata": {
        "colab_type": "code",
        "id": "Mr-bSnj5EA1l",
        "outputId": "07527f2e-31f3-438e-e3a5-7560b8cc3560",
        "colab": {
          "base_uri": "https://localhost:8080/",
          "height": 404
        }
      },
      "source": [
        "fig, ax = plt.subplots(1,1, figsize =(8,6))\n",
        "ax.set_xlabel('k')\n",
        "ax.set_ylabel('cost')\n",
        "\n",
        "# Your Code\n",
        "\n",
        "df_cost = pd.DataFrame(cost[2:])\n",
        "df_cost.columns = [\"cost\"]\n",
        "new_col = [2,3,4,5,6,7,8,9,10,11,12,13,14,15,16,17,18,19]\n",
        "df_cost.insert(0, 'cluster', new_col)\n",
        "\n",
        "import pylab as pl\n",
        "pl.plot(df_cost.cluster, df_cost.cost)\n",
        "pl.title('Elbow Curve')\n",
        "pl.show()"
      ],
      "execution_count": 172,
      "outputs": [
        {
          "output_type": "display_data",
          "data": {
            "image/png": "[encoded data removed]",
            "text/plain": [
              "<Figure size 576x432 with 1 Axes>"
            ]
          },
          "metadata": {
            "tags": [],
            "needs_background": "light"
          }
        }
      ]
    },
    {
      "cell_type": "markdown",
      "metadata": {
        "colab_type": "text",
        "id": "XupecQFHE5Za"
      },
      "source": [
        "\n",
        "### 2.2 K-Means\n",
        "\n",
        "Could you tell out the optimized K value? \n",
        "\n",
        "\n",
        "\n",
        "\n",
        "****\n",
        "\n",
        "<div class=\"alert alert-block alert-info\">\n",
        "\n",
        "**Code**: \n",
        "    You are required to choose a K value as 8 and then summarize each cluster with the count on Position_Group.\n",
        "\n",
        "<div class=\"alert alert-block alert-warning\">\n",
        "    \n",
        "**Report**: \n",
        "    **2.2** In your report with proper section title  '2.2', Please summarize the following:     \n",
        "    <ol>\n",
        "        <li> What you could find from those clusters (by cluster central point)? </li>\n",
        "        <li> Is there any Position_Group belonging to particular Cluster?</li>\n",
        "    </ol>\n",
        "\n",
        "</div>\n",
        "</div>\n",
        "\n",
        "\n"
      ]
    },
    {
      "cell_type": "code",
      "metadata": {
        "colab_type": "code",
        "id": "LxSOxcowE6vB",
        "outputId": "99a4a2de-9102-4285-abfd-f5d659bff38a",
        "colab": {
          "base_uri": "https://localhost:8080/",
          "height": 1000
        }
      },
      "source": [
        "k = 8\n",
        "\n",
        "# Your code\n",
        "\n",
        "kmeans = KMeans().setK(k).setSeed(1).setFeaturesCol('features')\n",
        "model = kmeans.fit(df_kmeans_)\n",
        "\n",
        "centers = model.clusterCenters()\n",
        "print(\"Cluster Centers: \")\n",
        "for center in centers:\n",
        "    print(center)\n",
        "\n",
        "transformed = model.transform(df_kmeans_)\n",
        "transformed.show() "
      ],
      "execution_count": 0,
      "outputs": [
        {
          "output_type": "stream",
          "text": [
            "Cluster Centers: \n",
            "[177.3317464   76.31794486  58.41639945  44.02061383  62.79111315\n",
            "  67.3220339   42.5387082   61.02611086  52.17911131  46.79294549\n",
            "  63.5510765   65.5758131   65.25240495  66.06596427  64.62757673\n",
            "  66.20568026  64.10581768  62.28263857  70.52038479  73.82638571\n",
            "  72.67384333  52.59688502  71.43426477  67.65048099  53.27072836\n",
            "  57.47457627  48.97938617  64.57627119  66.67155291  68.96472744\n",
            "  66.88914338]\n",
            "[187.68026262  81.70680941  39.8684377   30.21252372  68.72675522\n",
            "  59.71600253  31.19354839  44.54332701  34.72485769  33.42631246\n",
            "  54.99114485  55.46110057  53.19481341  55.6059456   50.15876028\n",
            "  62.97975965  50.6116382   51.14231499  68.34977862  64.29095509\n",
            "  79.52941176  34.24351676  70.56799494  67.06388362  33.600253\n",
            "  41.73561037  41.05566097  61.12903226  67.29411765  69.6116382\n",
            "  66.76533839]\n",
            "[172.46617578  73.21508518  65.18944637  68.70069204  57.79541522\n",
            "  69.00043253  64.56055363  73.22923875  67.01859862  61.3399654\n",
            "  60.86245675  72.86548443  76.23096886  75.48442907  76.85856401\n",
            "  68.82093426  73.3416955   71.57871972  66.4217128   69.08953287\n",
            "  63.61937716  67.48788927  56.35856401  35.85250865  70.45458478\n",
            "  67.55363322  65.27032872  68.70804498  36.98140138  34.27465398\n",
            "  30.68425606]\n",
            "[179.48039466  76.0082903   36.06083086  24.84124629  55.70029674\n",
            "  47.25816024  27.14169139  39.07121662  29.75296736  28.67655786\n",
            "  39.29896142  45.00667656  60.3189911   60.53189911  53.30267062\n",
            "  53.134273    59.04154303  38.19065282  67.60089021  60.8805638\n",
            "  67.21216617  25.61053412  57.08234421  56.22922849  31.92062315\n",
            "  34.70697329  36.51632047  47.67507418  57.19139466  60.84718101\n",
            "  58.89836795]\n",
            "[171.83121978  73.63665232  67.45570663  58.56901525  58.09394314\n",
            "  72.50432633  57.66131026  70.06098063  66.77997528  62.4223321\n",
            "  69.03461063  72.1223733   69.90688092  69.05644829  71.96744953\n",
            "  69.5434693   71.48413679  70.77832715  67.38648537  75.37206428\n",
            "  67.24639473  66.29377833  68.8170581   66.05274001  65.21137206\n",
            "  68.49938195  59.71693449  69.01771735  63.46147507  66.48413679\n",
            "  63.407911  ]\n",
            "[170.91016533  69.059326    55.29234568  55.09580247  43.15901235\n",
            "  60.04740741  48.40049383  64.16888889  52.72395062  46.47061728\n",
            "  53.46666667  62.81580247  74.15802469  73.06765432  72.88296296\n",
            "  54.81975309  74.18222222  58.15407407  57.08493827  59.05530864\n",
            "  50.88        51.04098765  42.44888889  30.00395062  56.25580247\n",
            "  56.67012346  52.63111111  55.06469136  35.40345679  33.6108642\n",
            "  32.67061728]\n",
            "[179.04405592  77.27376948  41.5253664   64.62852311  62.52367531\n",
            "  54.67080045  54.12401353  60.1572717   45.93179256  38.34892897\n",
            "  40.62514092  61.22886133  67.10372041  68.4475761   63.3934611\n",
            "  58.98816234  61.21364149  63.87373168  66.86583991  62.50281849\n",
            "  69.78015784  56.90078918  48.6854566   22.34441939  62.61555806\n",
            "  51.56313416  61.20744081  56.67080045  27.09244645  21.86414882\n",
            "  19.75479143]\n",
            "[170.42364272  71.65120522  54.40978964  39.52872168  51.07605178\n",
            "  60.99029126  37.06432039  58.46197411  45.36407767  40.24959547\n",
            "  55.51173139  59.90978964  69.55987055  69.1565534   67.27548544\n",
            "  58.08859223  69.60679612  50.26456311  64.68608414  67.79652104\n",
            "  60.88754045  42.32686084  59.25444984  56.58576052  50.67435275\n",
            "  51.5262945   43.85234628  53.67677994  56.21480583  59.43891586\n",
            "  57.93082524]\n",
            "+------+--------------------+----------+\n",
            "|    ID|            features|prediction|\n",
            "+------+--------------------+----------+\n",
            "|158023|[173.736,72.12112...|         2|\n",
            "| 20801|[188.976,83.00733...|         2|\n",
            "|190871|[179.832,68.0388,...|         2|\n",
            "|192985|[155.7528,69.8531...|         4|\n",
            "|183277|[176.784,73.93549...|         2|\n",
            "|177003|[176.784,66.22443...|         4|\n",
            "|176580|[182.88,86.18248,...|         2|\n",
            "|155862|[182.88,82.100152...|         4|\n",
            "|188545|[182.88,79.832192...|         2|\n",
            "|182521|[182.88,76.203456...|         4|\n",
            "|182493|[188.976,78.01782...|         0|\n",
            "|168542|[176.784,67.13161...|         2|\n",
            "|215914|[170.688,72.12112...|         4|\n",
            "|211110|[155.448,74.84268...|         2|\n",
            "|202126|[188.976,88.90403...|         2|\n",
            "|194765|[179.832,73.02831...|         2|\n",
            "|189511|[188.976,76.20345...|         4|\n",
            "|179813|[185.928,77.11064...|         2|\n",
            "|153079|[176.784,69.85316...|         2|\n",
            "|138956|[188.976,84.82170...|         0|\n",
            "+------+--------------------+----------+\n",
            "only showing top 20 rows\n",
            "\n"
          ],
          "name": "stdout"
        }
      ]
    },
    {
      "cell_type": "code",
      "metadata": {
        "colab_type": "code",
        "id": "AkWZ5-6oFlpp",
        "outputId": "16b17a92-6e07-408f-97ea-c88e6e078339",
        "colab": {
          "base_uri": "https://localhost:8080/",
          "height": 1000
        }
      },
      "source": [
        "from pyspark.sql import SQLContext\n",
        "\n",
        "# Your code\n",
        "\n",
        "from pyspark.sql.functions import col\n",
        "\n",
        "t = transformed.alias('t')\n",
        "kmeans = df_kmeans_new.alias('kmeans')\n",
        "\n",
        "df_kmeans_pred_ = kmeans.join(t, kmeans.ID == t.ID).select('*')\n",
        "df_kmeans_pred_ = df_kmeans_pred_.withColumnRenamed(\"prediction\", \"Cluster\")\n",
        "df_kmeans_pred_.show()\n",
        "for i in range(k):\n",
        "  print (\"Cluster \", i,\"has:\")\n",
        "  df_kmeans_pred_.filter(df_kmeans_pred_.Cluster==i).groupby(df_kmeans_pred_.Position_Group).count().show()\n"
      ],
      "execution_count": 0,
      "outputs": [
        {
          "output_type": "stream",
          "text": [
            "+--------+------+----------+----------+--------+---------+---------------+------------+-------+---------+-----+----------+-----------+-----------+------------+-----------+-------+---------+-------+---------+-------+-------+--------+---------+----------+-------------+-----------+------+---------+---------+-------+--------------+-------------+--------------+------+--------------------+-------+\n",
            "|Position|    ID|Height(CM)|Weight(KG)|Crossing|Finishing|HeadingAccuracy|ShortPassing|Volleys|Dribbling|Curve|FKAccuracy|LongPassing|BallControl|Acceleration|SprintSpeed|Agility|Reactions|Balance|ShotPower|Jumping|Stamina|Strength|LongShots|Aggression|Interceptions|Positioning|Vision|Penalties|Composure|Marking|StandingTackle|SlidingTackle|Position_Group|    ID|            features|Cluster|\n",
            "+--------+------+----------+----------+--------+---------+---------------+------------+-------+---------+-----+----------+-----------+-----------+------------+-----------+-------+---------+-------+---------+-------+-------+--------+---------+----------+-------------+-----------+------+---------+---------+-------+--------------+-------------+--------------+------+--------------------+-------+\n",
            "|      RF|158023|   173.736| 72.121128|      84|       95|             70|          90|     86|       97|   93|        94|         87|         96|          91|         86|     91|       95|     95|       85|     68|     72|      59|       94|        48|           22|         94|    94|       75|       96|     33|            28|           26|           FWD|158023|[173.736,72.12112...|      2|\n",
            "|      ST| 20801|   188.976| 83.007336|      84|       94|             89|          81|     87|       88|   81|        76|         77|         94|          89|         91|     87|       96|     70|       95|     95|     88|      79|       93|        63|           29|         95|    82|       85|       95|     28|            31|           23|           FWD| 20801|[188.976,83.00733...|      2|\n",
            "|      LW|190871|   179.832|   68.0388|      79|       87|             62|          84|     84|       96|   88|        87|         78|         95|          94|         90|     96|       94|     84|       80|     61|     81|      49|       82|        56|           36|         89|    87|       81|       94|     27|            24|           33|           FWD|190871|[179.832,68.0388,...|      2|\n",
            "|     RCM|192985|  155.7528| 69.853168|      93|       82|             55|          92|     82|       86|   85|        83|         91|         91|          78|         76|     79|       91|     77|       91|     63|     90|      75|       91|        76|           61|         87|    94|       79|       88|     68|            58|           51|           MID|192985|[155.7528,69.8531...|      4|\n",
            "|      LF|183277|   176.784| 73.935496|      81|       84|             61|          89|     80|       95|   83|        79|         83|         94|          94|         88|     95|       90|     94|       82|     56|     83|      66|       80|        54|           41|         87|    89|       86|       91|     34|            27|           22|           FWD|183277|[176.784,73.93549...|      2|\n",
            "|     RCM|177003|   176.784| 66.224432|      86|       72|             55|          93|     76|       90|   85|        78|         88|         93|          80|         72|     93|       90|     94|       79|     68|     89|      58|       82|        62|           83|         79|    92|       82|       84|     60|            76|           73|           MID|177003|[176.784,66.22443...|      4|\n",
            "|      RS|176580|    182.88|  86.18248|      77|       93|             77|          82|     88|       87|   86|        84|         64|         90|          86|         75|     82|       92|     83|       86|     69|     90|      83|       85|        87|           41|         92|    84|       85|       85|     62|            45|           38|           FWD|176580|[182.88,86.18248,...|      2|\n",
            "|     RCB|155862|    182.88| 82.100152|      66|       60|             91|          78|     66|       63|   74|        72|         77|         84|          76|         75|     78|       85|     66|       79|     93|     84|      83|       59|        88|           90|         60|    63|       75|       82|     87|            92|           91|           DEF|155862|[182.88,82.100152...|      4|\n",
            "|      ST|188545|    182.88| 79.832192|      62|       91|             85|          83|     89|       85|   77|        86|         65|         89|          77|         78|     78|       90|     78|       88|     84|     78|      84|       84|        80|           39|         91|    77|       88|       86|     34|            42|           19|           FWD|188545|[182.88,79.832192...|      2|\n",
            "|     LCM|182521|    182.88| 76.203456|      88|       76|             54|          92|     82|       81|   86|        84|         93|         90|          64|         62|     70|       89|     71|       87|     30|     75|      73|       92|        60|           82|         79|    86|       73|       85|     72|            79|           69|           MID|182521|[182.88,76.203456...|      4|\n",
            "|      CB|182493|   188.976| 78.017824|      55|       42|             92|          79|     47|       53|   49|        51|         70|         76|          68|         68|     58|       85|     54|       67|     91|     66|      88|       43|        89|           88|         48|    52|       50|       82|     90|            89|           89|           DEF|182493|[188.976,78.01782...|      0|\n",
            "|     LCM|168542|   176.784| 67.131616|      84|       76|             54|          93|     82|       89|   82|        77|         87|         94|          70|         64|     92|       90|     90|       72|     64|     78|      52|       75|        57|           50|         89|    92|       75|       93|     59|            53|           29|           MID|168542|[176.784,67.13161...|      2|\n",
            "|     LDM|215914|   170.688| 72.121128|      68|       65|             54|          86|     56|       79|   49|        49|         81|         80|          82|         78|     82|       93|     92|       71|     77|     96|      76|       69|        90|           92|         71|    79|       54|       85|     90|            91|           85|           MID|215914|[170.688,72.12112...|      4|\n",
            "|      LF|211110|   155.448|  74.84268|      82|       84|             68|          87|     88|       92|   88|        88|         75|         92|          87|         83|     91|       86|     85|       82|     75|     80|      65|       88|        48|           32|         84|    87|       86|       84|     23|            20|           20|           FWD|211110|[155.448,74.84268...|      2|\n",
            "|      ST|202126|   188.976| 88.904032|      75|       94|             85|          80|     84|       80|   78|        68|         82|         84|          68|         72|     71|       91|     71|       88|     78|     89|      84|       85|        76|           35|         93|    80|       90|       89|     56|            36|           38|           FWD|202126|[188.976,88.90403...|      2|\n",
            "|     CAM|194765|   179.832| 73.028312|      82|       90|             84|          83|     87|       88|   84|        78|         76|         90|          88|         85|     90|       90|     80|       80|     90|     83|      62|       82|        69|           35|         91|    83|       79|       87|     59|            47|           48|           MID|194765|[179.832,73.02831...|      2|\n",
            "|     CDM|189511|   188.976| 76.203456|      62|       67|             68|          89|     44|       80|   66|        68|         82|         88|          50|         52|     66|       87|     52|       61|     66|     86|      77|       54|        85|           87|         77|    87|       60|       90|     90|            86|           80|           MID|189511|[188.976,76.20345...|      4|\n",
            "|      LS|179813|   185.928|  77.11064|      70|       89|             89|          78|     90|       80|   77|        76|         52|         82|          75|         76|     77|       91|     59|       87|     88|     92|      78|       79|        84|           48|         93|    77|       85|       82|     52|            45|           39|           FWD|179813|[185.928,77.11064...|      2|\n",
            "|      ST|153079|   176.784| 69.853168|      70|       93|             77|          81|     85|       89|   82|        73|         64|         89|          88|         80|     86|       90|     91|       88|     81|     76|      73|       83|        65|           24|         92|    83|       83|       90|     30|            20|           12|           FWD|153079|[176.784,69.85316...|      2|\n",
            "|     LCB|138956|   188.976| 84.821704|      58|       33|             83|          59|     45|       58|   60|        31|         59|         57|          63|         75|     54|       82|     55|       78|     89|     65|      89|       49|        92|           88|         28|    50|       50|       84|     93|            93|           90|           DEF|138956|[188.976,84.82170...|      0|\n",
            "+--------+------+----------+----------+--------+---------+---------------+------------+-------+---------+-----+----------+-----------+-----------+------------+-----------+-------+---------+-------+---------+-------+-------+--------+---------+----------+-------------+-----------+------+---------+---------+-------+--------------+-------------+--------------+------+--------------------+-------+\n",
            "only showing top 20 rows\n",
            "\n",
            "Cluster  0 has:\n",
            "+--------------+-----+\n",
            "|Position_Group|count|\n",
            "+--------------+-----+\n",
            "|           MID|  967|\n",
            "|           DEF| 1230|\n",
            "|           FWD|   11|\n",
            "+--------------+-----+\n",
            "\n",
            "Cluster  1 has:\n",
            "+--------------+-----+\n",
            "|Position_Group|count|\n",
            "+--------------+-----+\n",
            "|           MID|  117|\n",
            "|           DEF| 1462|\n",
            "|           FWD|    2|\n",
            "+--------------+-----+\n",
            "\n",
            "Cluster  2 has:\n",
            "+--------------+-----+\n",
            "|Position_Group|count|\n",
            "+--------------+-----+\n",
            "|           MID| 1195|\n",
            "|           DEF|    4|\n",
            "|           FWD| 1112|\n",
            "+--------------+-----+\n",
            "\n",
            "Cluster  3 has:\n",
            "+--------------+-----+\n",
            "|Position_Group|count|\n",
            "+--------------+-----+\n",
            "|           MID|   77|\n",
            "|           DEF| 1266|\n",
            "|           FWD|    1|\n",
            "+--------------+-----+\n",
            "\n",
            "Cluster  4 has:\n",
            "+--------------+-----+\n",
            "|Position_Group|count|\n",
            "+--------------+-----+\n",
            "|           MID| 1720|\n",
            "|           DEF|  599|\n",
            "|           FWD|   71|\n",
            "+--------------+-----+\n",
            "\n",
            "Cluster  5 has:\n",
            "+--------------+-----+\n",
            "|Position_Group|count|\n",
            "+--------------+-----+\n",
            "|           MID| 1486|\n",
            "|           DEF|    8|\n",
            "|           FWD|  535|\n",
            "+--------------+-----+\n",
            "\n",
            "Cluster  6 has:\n",
            "+--------------+-----+\n",
            "|Position_Group|count|\n",
            "+--------------+-----+\n",
            "|           MID|  135|\n",
            "|           FWD| 1648|\n",
            "+--------------+-----+\n",
            "\n",
            "Cluster  7 has:\n",
            "+--------------+-----+\n",
            "|Position_Group|count|\n",
            "+--------------+-----+\n",
            "|           MID| 1141|\n",
            "|           DEF| 1297|\n",
            "|           FWD|   38|\n",
            "+--------------+-----+\n",
            "\n"
          ],
          "name": "stdout"
        }
      ]
    },
    {
      "cell_type": "markdown",
      "metadata": {
        "colab_type": "text",
        "id": "IiHEevY6IOJz"
      },
      "source": [
        "## Part 3 - Supervised Learning: Classification on Position_Group\n",
        "\n",
        "<a id=\"classification\"></a>\n",
        "***\n",
        "\n",
        "In last part, you use the player's skillset values to segment the players into 8 clusters. Now we want to see whether we could accuratly predict the position_group of the player.\n",
        "\n",
        "*Remind: You must only use **PySpark** to complete the following data processing and model building. Otherwise, you lose all marks.*\n",
        "\n",
        "\n",
        "### 3.1 Data Preparation\n",
        "\n",
        "We remove the feature of position and use all other skillset features and the cluster prediction as the input for the model. Your target for classification is \"Position_Group\"."
      ]
    },
    {
      "cell_type": "code",
      "metadata": {
        "colab_type": "code",
        "id": "PwtsyrUsI8e_",
        "outputId": "1b16ce57-ca2f-4f79-c67e-6dde8a18f988",
        "colab": {
          "base_uri": "https://localhost:8080/",
          "height": 204
        }
      },
      "source": [
        "FEATURES_COL_ = ['Height(CM)', 'Weight(KG)', \n",
        "                      'Crossing', 'Finishing', 'HeadingAccuracy', \n",
        "                      'ShortPassing', 'Volleys', 'Dribbling', 'Curve',\n",
        "                      'FKAccuracy', 'LongPassing', 'BallControl', \n",
        "                      'Acceleration', 'SprintSpeed', 'Agility', \n",
        "                      'Reactions', 'Balance', 'ShotPower', 'Jumping', \n",
        "                      'Stamina', 'Strength', 'LongShots', 'Aggression', \n",
        "                      'Interceptions', 'Positioning', 'Vision', 'Penalties', \n",
        "                      'Composure', 'Marking', 'StandingTackle', 'SlidingTackle','Cluster']\n",
        "\n",
        "df_kmeans_pred_=df_kmeans_pred_.drop('features')\n",
        "vecAssembler_ = VectorAssembler(inputCols=FEATURES_COL_, outputCol=\"features\")\n",
        "df_class_ = vecAssembler_.transform(df_kmeans_pred_).select('features','Position_Group')\n",
        "df_class_.show(5)\n"
      ],
      "execution_count": 0,
      "outputs": [
        {
          "output_type": "stream",
          "text": [
            "+--------------------+--------------+\n",
            "|            features|Position_Group|\n",
            "+--------------------+--------------+\n",
            "|[173.736,72.12112...|           FWD|\n",
            "|[188.976,83.00733...|           FWD|\n",
            "|[179.832,68.0388,...|           FWD|\n",
            "|[155.7528,69.8531...|           MID|\n",
            "|[176.784,73.93549...|           FWD|\n",
            "+--------------------+--------------+\n",
            "only showing top 5 rows\n",
            "\n"
          ],
          "name": "stdout"
        }
      ]
    },
    {
      "cell_type": "markdown",
      "metadata": {
        "colab_type": "text",
        "id": "AklN81TvMKJS"
      },
      "source": [
        "In many data science modeling work, feature scaling is very important.\n",
        "In here, we use standard scaling on the fetaures."
      ]
    },
    {
      "cell_type": "code",
      "metadata": {
        "colab_type": "code",
        "id": "pjQRAHOQMK6V",
        "outputId": "e69b6537-9804-4029-f3e1-c084aac612e4",
        "colab": {
          "base_uri": "https://localhost:8080/",
          "height": 204
        }
      },
      "source": [
        "from pyspark.ml.feature import StandardScaler\n",
        "\n",
        "standardscaler=StandardScaler().setInputCol(\"features\").setOutputCol(\"Scaled_features\")\n",
        "raw_data=standardscaler.fit(df_class_).transform(df_class_)\n",
        "raw_data.select(\"features\",\"Scaled_features\",'Position_Group').show(5)"
      ],
      "execution_count": 0,
      "outputs": [
        {
          "output_type": "stream",
          "text": [
            "+--------------------+--------------------+--------------+\n",
            "|            features|     Scaled_features|Position_Group|\n",
            "+--------------------+--------------------+--------------+\n",
            "|[173.736,72.12112...|[12.9261363965246...|           FWD|\n",
            "|[188.976,83.00733...|[14.0600080102548...|           FWD|\n",
            "|[179.832,68.0388,...|[13.3796850420167...|           FWD|\n",
            "|[155.7528,69.8531...|[11.5881678923229...|           MID|\n",
            "|[176.784,73.93549...|[13.1529107192706...|           FWD|\n",
            "+--------------------+--------------------+--------------+\n",
            "only showing top 5 rows\n",
            "\n"
          ],
          "name": "stdout"
        }
      ]
    },
    {
      "cell_type": "markdown",
      "metadata": {
        "colab_type": "text",
        "id": "DD6wgq2sgiGk"
      },
      "source": [
        "In Spark, you could not use string as Target data type, Please encode the Position_Group column by using following encoding: \n",
        "\n",
        "FWD = 0\n",
        "DEF = 1\n",
        "MID = 2\n",
        "\n",
        "*Hint: Data type after encoding should be numeric.*"
      ]
    },
    {
      "cell_type": "code",
      "metadata": {
        "colab_type": "code",
        "id": "OosmFX9iOc0Z",
        "colab": {}
      },
      "source": [
        "raw_data_ = raw_data.withColumn('label',when(col(\"Position_Group\") == \"DEF\", 1)\n",
        "      .when(col(\"Position_Group\")== \"FWD\", 0)\n",
        "      .otherwise(2))"
      ],
      "execution_count": 0,
      "outputs": []
    },
    {
      "cell_type": "markdown",
      "metadata": {
        "colab_type": "text",
        "id": "NDfZARUNMW2M"
      },
      "source": [
        "### 3.2 Training Test Evaluation\n",
        "\n",
        "We remove the feature of position and use all other skillset features and the cluster prediction as the input for the model. The target for classification is \"Position_Group\".\n",
        "\n",
        "Now, we split your data into train/Test, and evaluate one model's performance."
      ]
    },
    {
      "cell_type": "code",
      "metadata": {
        "colab_type": "code",
        "id": "MmbanmwBMUQB",
        "colab": {}
      },
      "source": [
        "train, test = raw_data_.randomSplit([0.7, 0.3], seed=12)"
      ],
      "execution_count": 0,
      "outputs": []
    },
    {
      "cell_type": "code",
      "metadata": {
        "colab_type": "code",
        "id": "apoKm9igMi12",
        "outputId": "076ce4c2-2871-4fc4-ad11-51daf3c4db11",
        "colab": {
          "base_uri": "https://localhost:8080/",
          "height": 289
        }
      },
      "source": [
        "from pyspark.ml.classification import LogisticRegression\n",
        "lr = LogisticRegression(labelCol=\"label\", featuresCol=\"Scaled_features\",maxIter=10)\n",
        "model=lr.fit(train)\n",
        "\n",
        "predict_train=model.transform(train)\n",
        "predict_test=model.transform(test)\n",
        "predict_test.select(\"label\",\"prediction\").show(10)"
      ],
      "execution_count": 0,
      "outputs": [
        {
          "output_type": "stream",
          "text": [
            "+-----+----------+\n",
            "|label|prediction|\n",
            "+-----+----------+\n",
            "|    2|       2.0|\n",
            "|    2|       2.0|\n",
            "|    0|       2.0|\n",
            "|    2|       2.0|\n",
            "|    2|       2.0|\n",
            "|    2|       2.0|\n",
            "|    2|       2.0|\n",
            "|    1|       2.0|\n",
            "|    0|       0.0|\n",
            "|    2|       2.0|\n",
            "+-----+----------+\n",
            "only showing top 10 rows\n",
            "\n"
          ],
          "name": "stdout"
        }
      ]
    },
    {
      "cell_type": "markdown",
      "metadata": {
        "colab_type": "text",
        "id": "wZk-Z7CcP6Ng"
      },
      "source": [
        "\n",
        "****\n",
        "\n",
        "\n",
        "<div class=\"alert alert-block alert-info\">\n",
        "\n",
        "**Code**: \n",
        "    You are required to evaluate the model by using confusion matrix. Please also print out your model's Precision, Recall and F1 score.\n",
        "\n",
        "<div class=\"alert alert-block alert-warning\">\n",
        "    \n",
        "**Report**: \n",
        "    **3.2** In your report with proper section title  '3.2', Please summarize the following:     \n",
        "    <ol>\n",
        "        <li> The confusion matrix </li>\n",
        "        <li> The Precision, Recall and F1 score</li>\n",
        "    </ol>\n",
        "</div>\n",
        "</div>\n",
        "\n",
        "\n"
      ]
    },
    {
      "cell_type": "code",
      "metadata": {
        "colab_type": "code",
        "id": "yPho8CbGQCCm",
        "outputId": "d9cf1756-c3d7-498c-d9e9-6cb8c02280e4",
        "colab": {
          "base_uri": "https://localhost:8080/",
          "height": 68
        }
      },
      "source": [
        "from sklearn.metrics import confusion_matrix\n",
        "\n",
        "\n",
        "# Your Code\n",
        "y_true = [int(row.label) for row in predict_test.collect()]\n",
        "y_pred = [int(row.prediction) for row in predict_test.collect()]\n",
        "\n",
        "confusion_matrix(y_true, y_pred)"
      ],
      "execution_count": 0,
      "outputs": [
        {
          "output_type": "execute_result",
          "data": {
            "text/plain": [
              "array([[ 834,    5,  178],\n",
              "       [   2, 1422,  293],\n",
              "       [ 225,  238, 1619]])"
            ]
          },
          "metadata": {
            "tags": []
          },
          "execution_count": 41
        }
      ]
    },
    {
      "cell_type": "code",
      "metadata": {
        "colab_type": "code",
        "id": "d95nOilARR8H",
        "outputId": "a422c1e5-5daa-408b-8a4d-3cc15b149441",
        "colab": {
          "base_uri": "https://localhost:8080/",
          "height": 187
        }
      },
      "source": [
        "from sklearn.metrics import classification_report\n",
        "\n",
        "# Your Code\n",
        "target_names = ['FWD', 'DEF', 'MID']\n",
        "print(classification_report(y_true, y_pred, target_names=target_names))\n",
        "\n"
      ],
      "execution_count": 0,
      "outputs": [
        {
          "output_type": "stream",
          "text": [
            "              precision    recall  f1-score   support\n",
            "\n",
            "         FWD       0.87      0.74      0.80      1017\n",
            "         DEF       0.86      0.90      0.88      1717\n",
            "         MID       0.79      0.82      0.81      2082\n",
            "\n",
            "    accuracy                           0.83      4816\n",
            "   macro avg       0.84      0.82      0.83      4816\n",
            "weighted avg       0.83      0.83      0.83      4816\n",
            "\n"
          ],
          "name": "stdout"
        }
      ]
    },
    {
      "cell_type": "markdown",
      "metadata": {
        "colab_type": "text",
        "id": "4Iy-g_68Q8OV"
      },
      "source": [
        "### 3.3 K-fold Cross-Validation\n",
        "\n",
        "We surely missed something during the modeling work -- Hyperparameter tuning! We can use K-fold cross validation to find out the best hyperparameter set.\n",
        "\n",
        "****\n",
        "\n",
        "\n",
        "<div class=\"alert alert-block alert-info\">\n",
        "\n",
        "**Code**: \n",
        "    Please implement K-fold cross validation for three (any three) classification models.\n",
        "\n",
        "<div class=\"alert alert-block alert-warning\">\n",
        "    \n",
        "**Report**: \n",
        "    **3.3** In your report with proper section title  '3.3', Please summarize the following:     \n",
        "    <ol>\n",
        "        <li> Your code design and running results </li>\n",
        "        <li> Your findings on hyperparameters based on this cross-validation results</li>\n",
        "        <li> Any difficuties you had </li>\n",
        "        <li> Any other possible tasks we could do on this dataset </li>\n",
        "    </ol>\n",
        "<b>Remind: fail to list the reference will lead a penalty and possibly plagiarism</b>    \n",
        "</div>\n",
        "</div>\n",
        "\n"
      ]
    },
    {
      "cell_type": "code",
      "metadata": {
        "colab_type": "code",
        "id": "0yCvsy1-jO7x",
        "outputId": "8a39efec-a009-47f3-e4e5-c292aaf47a98",
        "colab": {
          "base_uri": "https://localhost:8080/",
          "height": 306
        }
      },
      "source": [
        "from pyspark.ml import Pipeline\n",
        "from pyspark.ml.classification import RandomForestClassifier\n",
        "from pyspark.ml.evaluation import MulticlassClassificationEvaluator\n",
        "from pyspark.ml.tuning import ParamGridBuilder, CrossValidator\n",
        "\n",
        "# Random forest classification model \n",
        "\n",
        "#Train a random forest model\n",
        "rf = RandomForestClassifier(labelCol='label', featuresCol='Scaled_features', numTrees=10)\n",
        "\n",
        "#Chain forest in Pipeline\n",
        "pipeline = Pipeline(stages=[rf])\n",
        "\n",
        "#Set parameters for cross validation\n",
        "paramGrid = ParamGridBuilder(). addGrid(rf.numTrees,[10,20,30,40,50]) .build()\n",
        "\n",
        "#Cross Validator\n",
        "crossval = CrossValidator(estimator=pipeline,\n",
        "                          estimatorParamMaps=paramGrid,\n",
        "                          evaluator=MulticlassClassificationEvaluator(),\n",
        "                          numFolds=5)\n",
        "\n",
        "#Fit training data to the best hyper parameters identified by validator\n",
        "cvModel = crossval.fit(train)\n",
        "\n",
        "print(\"**Best model is:\\n\",cvModel.bestModel.stages[0]) #Best case for numtrees in rf\n",
        "\n",
        "prediction = cvModel.bestModel.transform(test)\n",
        "selected = prediction.select(\"label\", \"prediction\")\n",
        "\n",
        "#Evaluate accuracy of model\n",
        "evaluator = MulticlassClassificationEvaluator(predictionCol=\"prediction\")\n",
        "RFM_accurary = evaluator.evaluate(prediction)\n",
        "print(\"\\nRandom forest Model accuracy:\", RFM_accurary)\n",
        "\n",
        "print(\"\\n**Classification report for Random forest model**\\n\")\n",
        "\n",
        "y_true = [int(row.label) for row in prediction.collect()]\n",
        "y_pred = [int(row.prediction) for row in prediction.collect()]\n",
        "\n",
        "print(classification_report(y_true, y_pred, target_names=target_names))"
      ],
      "execution_count": 170,
      "outputs": [
        {
          "output_type": "stream",
          "text": [
            "**Best model is:\n",
            " RandomForestClassificationModel (uid=RandomForestClassifier_559b62593514) with 20 trees\n",
            "\n",
            "Random forest Model accuracy: 0.8306779495418989\n",
            "\n",
            "**Classification report for Random forest model**\n",
            "\n",
            "              precision    recall  f1-score   support\n",
            "\n",
            "         FWD       0.87      0.74      0.80      1017\n",
            "         DEF       0.86      0.90      0.88      1717\n",
            "         MID       0.79      0.82      0.81      2082\n",
            "\n",
            "    accuracy                           0.83      4816\n",
            "   macro avg       0.84      0.82      0.83      4816\n",
            "weighted avg       0.83      0.83      0.83      4816\n",
            "\n"
          ],
          "name": "stdout"
        }
      ]
    },
    {
      "cell_type": "code",
      "metadata": {
        "id": "hg63XWZvNTcm",
        "colab_type": "code",
        "outputId": "e3f80e46-1558-4d99-87d5-d25b90dc53de",
        "colab": {
          "base_uri": "https://localhost:8080/",
          "height": 306
        }
      },
      "source": [
        "#Decision Tree classification Model\n",
        "\n",
        "from pyspark.ml.classification import DecisionTreeClassifier\n",
        "\n",
        "dt = DecisionTreeClassifier(labelCol=\"label\", featuresCol=\"Scaled_features\")\n",
        "pipeline = Pipeline(stages=[dt])\n",
        "\n",
        "paramGrid = ParamGridBuilder(). addGrid(dt.maxDepth, [2,5]) .build()\n",
        "\n",
        "crossval = CrossValidator(estimator=pipeline,\n",
        "                          estimatorParamMaps=paramGrid,\n",
        "                          evaluator=MulticlassClassificationEvaluator(),\n",
        "                          numFolds=5)\n",
        "\n",
        "cvModel = crossval.fit(train)\n",
        "\n",
        "print(\"**Best model is:\\n\", cvModel.bestModel.stages[0]) #Best case for depth in dt\n",
        "\n",
        "prediction = cvModel.bestModel.transform(test)\n",
        "selected = prediction.select(\"label\", \"prediction\")\n",
        "\n",
        "evaluator = MulticlassClassificationEvaluator(predictionCol=\"prediction\")\n",
        "DT_accurary = evaluator.evaluate(prediction)\n",
        "print(\"\\nDecision tree Model accurary:\", DT_accurary)\n",
        "\n",
        "\n",
        "print(\"\\n**Classification report for Decision tree model**\\n\")\n",
        "y_true = [int(row.label) for row in prediction.collect()]\n",
        "y_pred = [int(row.prediction) for row in prediction.collect()]\n",
        "\n",
        "print(classification_report(y_true, y_pred, target_names=target_names))"
      ],
      "execution_count": 168,
      "outputs": [
        {
          "output_type": "stream",
          "text": [
            "**Best model is:\n",
            " DecisionTreeClassificationModel (uid=DecisionTreeClassifier_6d1adc3ea104) of depth 5 with 47 nodes\n",
            "\n",
            "Decision tree Model accurary: 0.811376127079013\n",
            "\n",
            "**Classification report for Decision tree model**\n",
            "\n",
            "              precision    recall  f1-score   support\n",
            "\n",
            "         FWD       0.81      0.73      0.77      1017\n",
            "         DEF       0.85      0.88      0.87      1717\n",
            "         MID       0.78      0.79      0.79      2082\n",
            "\n",
            "    accuracy                           0.81      4816\n",
            "   macro avg       0.81      0.80      0.81      4816\n",
            "weighted avg       0.81      0.81      0.81      4816\n",
            "\n"
          ],
          "name": "stdout"
        }
      ]
    },
    {
      "cell_type": "code",
      "metadata": {
        "id": "ccL8FLE1A8SL",
        "colab_type": "code",
        "colab": {}
      },
      "source": [
        "#Logistic regression model\n",
        "from pyspark.ml.classification import LogisticRegression\n",
        "from pyspark.ml.evaluation import BinaryClassificationEvaluator\n",
        "\n",
        "lr = LogisticRegression(labelCol ='label', featuresCol = 'Scaled_features',maxIter=10)\n",
        "pipeline = Pipeline(stages=[lr])\n",
        "\n",
        "paramGrid = ParamGridBuilder().build()\n",
        "\n",
        "crossval = CrossValidator(estimator=pipeline,\n",
        "                          estimatorParamMaps=paramGrid,\n",
        "                          evaluator=BinaryClassificationEvaluator(),\n",
        "                          numFolds=5)\n",
        "model = crossval.fit(train)"
      ],
      "execution_count": 0,
      "outputs": []
    },
    {
      "cell_type": "code",
      "metadata": {
        "id": "jHw7v_LeUnXr",
        "colab_type": "code",
        "outputId": "b8e67c65-c001-42d3-fb30-fefe26e6bab4",
        "colab": {
          "base_uri": "https://localhost:8080/",
          "height": 306
        }
      },
      "source": [
        "\n",
        "print(\"**Best model is:\\n\",model.bestModel.stages[0]) #Best model \n",
        "\n",
        "\n",
        "prediction = model.bestModel.transform(test)\n",
        "selected = prediction.select(\"label\", \"prediction\")\n",
        "\n",
        "evaluator = MulticlassClassificationEvaluator(predictionCol=\"prediction\")\n",
        "LR_accurary = evaluator.evaluate(prediction)\n",
        "print(\"\\nLogistic Regression Model accurary is:\", LR_accurary)\n",
        "\n",
        "print(\"\\n**Classification report for Logistic regression model**\\n\")\n",
        "y_true = [int(row.label) for row in prediction.collect()]\n",
        "y_pred = [int(row.prediction) for row in prediction.collect()]\n",
        "\n",
        "print(classification_report(y_true, y_pred, target_names=target_names))\n"
      ],
      "execution_count": 167,
      "outputs": [
        {
          "output_type": "stream",
          "text": [
            "**Best model is:\n",
            " LogisticRegressionModel: uid = LogisticRegression_229f166b22ed, numClasses = 3, numFeatures = 32\n",
            "\n",
            "Logistic Regression Model accurary is: 0.804838079692376\n",
            "\n",
            "**Classification report for Logistic regression model**\n",
            "\n",
            "              precision    recall  f1-score   support\n",
            "\n",
            "         FWD       0.79      0.82      0.80      1017\n",
            "         DEF       0.85      0.83      0.84      1717\n",
            "         MID       0.77      0.78      0.78      2082\n",
            "\n",
            "    accuracy                           0.80      4816\n",
            "   macro avg       0.80      0.81      0.81      4816\n",
            "weighted avg       0.81      0.80      0.80      4816\n",
            "\n"
          ],
          "name": "stdout"
        }
      ]
    }
  ]
}